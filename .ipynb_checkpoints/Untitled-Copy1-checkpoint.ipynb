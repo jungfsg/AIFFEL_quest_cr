{
 "cells": [
  {
   "cell_type": "code",
   "execution_count": null,
   "id": "a2dae60c",
   "metadata": {},
   "outputs": [],
   "source": [
    "# AIFFEL_quest_cr\n",
    "jungfsg_Aiffel\n",
    "\n",
    "this is for aiffel studies\n",
    "\n",
    "AIFFEL_quest_cr\n",
    "├── MainQuest\n",
    "│   ├── Quest01\n",
    "│   │   ├── .ipynb\n",
    "│   │   └── README.md\n",
    ".\t\t.\n",
    ".\t\t.\n",
    ".\t\t.\n",
    "│   └── Quest08\n",
    "│       ├── .ipynb\n",
    "│       └── README.md\n",
    ".       \n",
    ".\n",
    ".\n",
    "└── Python\n",
    "│   └── PY01\n",
    "│   .   ├── .ipynb\n",
    "│   .   └── README.md\n",
    ".   .\n",
    ".   └── PY04\n",
    ".       ├── .ipynb\n",
    ".       └── README.md\n",
    ".\n",
    ".\n",
    "└── Flutter\n",
    "│   └── FL01\n",
    "│   .   ├── .ipynb\n",
    "│   .   └── README.md\n",
    ".   . \n",
    ".   . \n",
    ".   └── FL05\n",
    ".       ├── .ipynb\n",
    ".       └── README.md\n",
    ".\n",
    ".\n",
    "└── Exploration\n",
    "    └── EX01\n",
    "    .   ├── .ipynb\n",
    "    .   └── README.md\n",
    "    . \n",
    "    . \n",
    "    └── EX07\n",
    "        ├── .ipynb\n",
    "        └── README.md"
   ]
  }
 ],
 "metadata": {
  "kernelspec": {
   "display_name": "Python 3 (ipykernel)",
   "language": "python",
   "name": "python3"
  },
  "language_info": {
   "codemirror_mode": {
    "name": "ipython",
    "version": 3
   },
   "file_extension": ".py",
   "mimetype": "text/x-python",
   "name": "python",
   "nbconvert_exporter": "python",
   "pygments_lexer": "ipython3",
   "version": "3.9.7"
  }
 },
 "nbformat": 4,
 "nbformat_minor": 5
}
